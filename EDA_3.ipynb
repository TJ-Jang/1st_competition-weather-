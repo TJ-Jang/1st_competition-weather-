{
 "cells": [
  {
   "cell_type": "code",
   "execution_count": 4,
   "metadata": {},
   "outputs": [],
   "source": [
    "import numpy as np\n",
    "import pandas as pd\n",
    "import matplotlib.pyplot as plt\n",
    "import seaborn as sns"
   ]
  },
  {
   "cell_type": "code",
   "execution_count": 2,
   "metadata": {},
   "outputs": [],
   "source": [
    "wg = pd.read_csv('mergeWG.csv')"
   ]
  },
  {
   "cell_type": "code",
   "execution_count": 3,
   "metadata": {},
   "outputs": [
    {
     "data": {
      "text/plain": [
       "(249520, 14)"
      ]
     },
     "execution_count": 3,
     "metadata": {},
     "output_type": "execute_result"
    }
   ],
   "source": [
    "wg.shape"
   ]
  },
  {
   "cell_type": "code",
   "execution_count": 6,
   "metadata": {},
   "outputs": [
    {
     "data": {
      "text/html": [
       "<div>\n",
       "<style scoped>\n",
       "    .dataframe tbody tr th:only-of-type {\n",
       "        vertical-align: middle;\n",
       "    }\n",
       "\n",
       "    .dataframe tbody tr th {\n",
       "        vertical-align: top;\n",
       "    }\n",
       "\n",
       "    .dataframe thead th {\n",
       "        text-align: right;\n",
       "    }\n",
       "</style>\n",
       "<table border=\"1\" class=\"dataframe\">\n",
       "  <thead>\n",
       "    <tr style=\"text-align: right;\">\n",
       "      <th></th>\n",
       "      <th>Unnamed: 0</th>\n",
       "      <th>tm</th>\n",
       "      <th>pvn_nm</th>\n",
       "      <th>max_ta</th>\n",
       "      <th>avg_ta</th>\n",
       "      <th>min_ta</th>\n",
       "      <th>max_ws</th>\n",
       "      <th>avg_wa</th>\n",
       "      <th>avg_rhm</th>\n",
       "      <th>sum_rn</th>\n",
       "      <th>gen_cd</th>\n",
       "      <th>age_cd</th>\n",
       "      <th>category</th>\n",
       "      <th>qty</th>\n",
       "    </tr>\n",
       "  </thead>\n",
       "  <tbody>\n",
       "    <tr>\n",
       "      <th>0</th>\n",
       "      <td>0</td>\n",
       "      <td>20160101.0</td>\n",
       "      <td>0.0</td>\n",
       "      <td>4.9375</td>\n",
       "      <td>0.058333</td>\n",
       "      <td>-5.775</td>\n",
       "      <td>2.675</td>\n",
       "      <td>0.766667</td>\n",
       "      <td>77.583333</td>\n",
       "      <td>0.0</td>\n",
       "      <td>0</td>\n",
       "      <td>0</td>\n",
       "      <td>101</td>\n",
       "      <td>541</td>\n",
       "    </tr>\n",
       "    <tr>\n",
       "      <th>1</th>\n",
       "      <td>1</td>\n",
       "      <td>20160101.0</td>\n",
       "      <td>0.0</td>\n",
       "      <td>4.9375</td>\n",
       "      <td>0.058333</td>\n",
       "      <td>-5.775</td>\n",
       "      <td>2.675</td>\n",
       "      <td>0.766667</td>\n",
       "      <td>77.583333</td>\n",
       "      <td>0.0</td>\n",
       "      <td>0</td>\n",
       "      <td>0</td>\n",
       "      <td>100</td>\n",
       "      <td>273</td>\n",
       "    </tr>\n",
       "    <tr>\n",
       "      <th>2</th>\n",
       "      <td>2</td>\n",
       "      <td>20160101.0</td>\n",
       "      <td>0.0</td>\n",
       "      <td>4.9375</td>\n",
       "      <td>0.058333</td>\n",
       "      <td>-5.775</td>\n",
       "      <td>2.675</td>\n",
       "      <td>0.766667</td>\n",
       "      <td>77.583333</td>\n",
       "      <td>0.0</td>\n",
       "      <td>0</td>\n",
       "      <td>1</td>\n",
       "      <td>101</td>\n",
       "      <td>12507</td>\n",
       "    </tr>\n",
       "    <tr>\n",
       "      <th>3</th>\n",
       "      <td>3</td>\n",
       "      <td>20160101.0</td>\n",
       "      <td>0.0</td>\n",
       "      <td>4.9375</td>\n",
       "      <td>0.058333</td>\n",
       "      <td>-5.775</td>\n",
       "      <td>2.675</td>\n",
       "      <td>0.766667</td>\n",
       "      <td>77.583333</td>\n",
       "      <td>0.0</td>\n",
       "      <td>0</td>\n",
       "      <td>1</td>\n",
       "      <td>100</td>\n",
       "      <td>4968</td>\n",
       "    </tr>\n",
       "    <tr>\n",
       "      <th>4</th>\n",
       "      <td>4</td>\n",
       "      <td>20160101.0</td>\n",
       "      <td>0.0</td>\n",
       "      <td>4.9375</td>\n",
       "      <td>0.058333</td>\n",
       "      <td>-5.775</td>\n",
       "      <td>2.675</td>\n",
       "      <td>0.766667</td>\n",
       "      <td>77.583333</td>\n",
       "      <td>0.0</td>\n",
       "      <td>0</td>\n",
       "      <td>1</td>\n",
       "      <td>103</td>\n",
       "      <td>3566</td>\n",
       "    </tr>\n",
       "  </tbody>\n",
       "</table>\n",
       "</div>"
      ],
      "text/plain": [
       "   Unnamed: 0          tm  pvn_nm  max_ta    avg_ta  min_ta  max_ws    avg_wa  \\\n",
       "0           0  20160101.0     0.0  4.9375  0.058333  -5.775   2.675  0.766667   \n",
       "1           1  20160101.0     0.0  4.9375  0.058333  -5.775   2.675  0.766667   \n",
       "2           2  20160101.0     0.0  4.9375  0.058333  -5.775   2.675  0.766667   \n",
       "3           3  20160101.0     0.0  4.9375  0.058333  -5.775   2.675  0.766667   \n",
       "4           4  20160101.0     0.0  4.9375  0.058333  -5.775   2.675  0.766667   \n",
       "\n",
       "     avg_rhm  sum_rn  gen_cd  age_cd  category    qty  \n",
       "0  77.583333     0.0       0       0       101    541  \n",
       "1  77.583333     0.0       0       0       100    273  \n",
       "2  77.583333     0.0       0       1       101  12507  \n",
       "3  77.583333     0.0       0       1       100   4968  \n",
       "4  77.583333     0.0       0       1       103   3566  "
      ]
     },
     "execution_count": 6,
     "metadata": {},
     "output_type": "execute_result"
    }
   ],
   "source": [
    "wg.head()"
   ]
  },
  {
   "cell_type": "code",
   "execution_count": 8,
   "metadata": {},
   "outputs": [],
   "source": [
    "wg = wg.drop('Unnamed: 0', axis = 1)"
   ]
  },
  {
   "cell_type": "code",
   "execution_count": null,
   "metadata": {},
   "outputs": [],
   "source": []
  }
 ],
 "metadata": {
  "kernelspec": {
   "display_name": "Python 3",
   "language": "python",
   "name": "python3"
  },
  "language_info": {
   "codemirror_mode": {
    "name": "ipython",
    "version": 3
   },
   "file_extension": ".py",
   "mimetype": "text/x-python",
   "name": "python",
   "nbconvert_exporter": "python",
   "pygments_lexer": "ipython3",
   "version": "3.7.3"
  }
 },
 "nbformat": 4,
 "nbformat_minor": 2
}
