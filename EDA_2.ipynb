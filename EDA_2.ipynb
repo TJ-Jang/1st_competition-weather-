{
 "cells": [
  {
   "cell_type": "markdown",
   "metadata": {},
   "source": [
    "# 2. EDA_2"
   ]
  },
  {
   "cell_type": "code",
   "execution_count": 1,
   "metadata": {},
   "outputs": [],
   "source": [
    "import numpy as np\n",
    "import pandas as pd\n",
    "import warnings\n",
    "warnings.filterwarnings('ignore')\n",
    "\n",
    "import matplotlib.pyplot as plt\n",
    "import seaborn as sns\n",
    "plt.style.use('seaborn')\n",
    "sns.set(font_scale=2.5)\n",
    "\n",
    "%matplotlib inline"
   ]
  },
  {
   "cell_type": "code",
   "execution_count": 2,
   "metadata": {},
   "outputs": [],
   "source": [
    "weather = pd.read_csv('df_weather.csv')\n",
    "gs25 = pd.read_csv('df_gs25.csv')"
   ]
  },
  {
   "cell_type": "code",
   "execution_count": 3,
   "metadata": {},
   "outputs": [
    {
     "data": {
      "text/plain": [
       "(3289, 10)"
      ]
     },
     "execution_count": 3,
     "metadata": {},
     "output_type": "execute_result"
    }
   ],
   "source": [
    "weather.shape"
   ]
  },
  {
   "cell_type": "code",
   "execution_count": 12,
   "metadata": {},
   "outputs": [],
   "source": [
    "# weather.head()"
   ]
  },
  {
   "cell_type": "code",
   "execution_count": 5,
   "metadata": {},
   "outputs": [
    {
     "data": {
      "text/plain": [
       "(249520, 7)"
      ]
     },
     "execution_count": 5,
     "metadata": {},
     "output_type": "execute_result"
    }
   ],
   "source": [
    "gs25.shape"
   ]
  },
  {
   "cell_type": "code",
   "execution_count": 13,
   "metadata": {},
   "outputs": [],
   "source": [
    "# gs25.head()"
   ]
  },
  {
   "cell_type": "markdown",
   "metadata": {},
   "source": [
    "csv파일로 새로 저장하면서 생긴 이전의 index를 삭제한다."
   ]
  },
  {
   "cell_type": "code",
   "execution_count": 9,
   "metadata": {},
   "outputs": [],
   "source": [
    "weather = weather.drop('Unnamed: 0', axis = 1)\n",
    "gs25 = gs25.drop('Unnamed: 0', axis = 1)"
   ]
  },
  {
   "cell_type": "code",
   "execution_count": 14,
   "metadata": {},
   "outputs": [],
   "source": [
    "# weather.head()"
   ]
  },
  {
   "cell_type": "code",
   "execution_count": 15,
   "metadata": {},
   "outputs": [],
   "source": [
    "# gs25.head()"
   ]
  },
  {
   "cell_type": "markdown",
   "metadata": {},
   "source": [
    "## merge"
   ]
  },
  {
   "cell_type": "markdown",
   "metadata": {},
   "source": [
    "  * merge를 하기 위하여 weather과 gs25에서 공통된 조건을 만들어준다."
   ]
  },
  {
   "cell_type": "code",
   "execution_count": 16,
   "metadata": {},
   "outputs": [
    {
     "data": {
      "text/html": [
       "<div>\n",
       "<style scoped>\n",
       "    .dataframe tbody tr th:only-of-type {\n",
       "        vertical-align: middle;\n",
       "    }\n",
       "\n",
       "    .dataframe tbody tr th {\n",
       "        vertical-align: top;\n",
       "    }\n",
       "\n",
       "    .dataframe thead th {\n",
       "        text-align: right;\n",
       "    }\n",
       "</style>\n",
       "<table border=\"1\" class=\"dataframe\">\n",
       "  <thead>\n",
       "    <tr style=\"text-align: right;\">\n",
       "      <th></th>\n",
       "      <th>tm</th>\n",
       "      <th>pvn_nm</th>\n",
       "      <th>max_ta</th>\n",
       "      <th>avg_ta</th>\n",
       "      <th>min_ta</th>\n",
       "      <th>max_ws</th>\n",
       "      <th>avg_wa</th>\n",
       "      <th>avg_rhm</th>\n",
       "      <th>sum_rn</th>\n",
       "    </tr>\n",
       "  </thead>\n",
       "  <tbody>\n",
       "    <tr>\n",
       "      <th>0</th>\n",
       "      <td>20160101.0</td>\n",
       "      <td>0.0</td>\n",
       "      <td>4.937500</td>\n",
       "      <td>0.058333</td>\n",
       "      <td>-5.775000</td>\n",
       "      <td>2.675000</td>\n",
       "      <td>0.766667</td>\n",
       "      <td>77.583333</td>\n",
       "      <td>0.0</td>\n",
       "    </tr>\n",
       "    <tr>\n",
       "      <th>1</th>\n",
       "      <td>20160102.0</td>\n",
       "      <td>0.0</td>\n",
       "      <td>10.095833</td>\n",
       "      <td>4.600000</td>\n",
       "      <td>0.412500</td>\n",
       "      <td>3.316667</td>\n",
       "      <td>1.075000</td>\n",
       "      <td>77.916667</td>\n",
       "      <td>0.0</td>\n",
       "    </tr>\n",
       "    <tr>\n",
       "      <th>2</th>\n",
       "      <td>20160103.0</td>\n",
       "      <td>0.0</td>\n",
       "      <td>9.641667</td>\n",
       "      <td>4.550000</td>\n",
       "      <td>0.716667</td>\n",
       "      <td>2.508333</td>\n",
       "      <td>0.566667</td>\n",
       "      <td>85.000000</td>\n",
       "      <td>0.0</td>\n",
       "    </tr>\n",
       "    <tr>\n",
       "      <th>3</th>\n",
       "      <td>20160104.0</td>\n",
       "      <td>0.0</td>\n",
       "      <td>6.658333</td>\n",
       "      <td>2.495833</td>\n",
       "      <td>-2.495833</td>\n",
       "      <td>4.487500</td>\n",
       "      <td>1.875000</td>\n",
       "      <td>56.250000</td>\n",
       "      <td>0.0</td>\n",
       "    </tr>\n",
       "    <tr>\n",
       "      <th>4</th>\n",
       "      <td>20160105.0</td>\n",
       "      <td>0.0</td>\n",
       "      <td>2.000000</td>\n",
       "      <td>-2.213043</td>\n",
       "      <td>-5.775000</td>\n",
       "      <td>3.937500</td>\n",
       "      <td>1.454167</td>\n",
       "      <td>42.304348</td>\n",
       "      <td>0.0</td>\n",
       "    </tr>\n",
       "  </tbody>\n",
       "</table>\n",
       "</div>"
      ],
      "text/plain": [
       "           tm  pvn_nm     max_ta    avg_ta    min_ta    max_ws    avg_wa  \\\n",
       "0  20160101.0     0.0   4.937500  0.058333 -5.775000  2.675000  0.766667   \n",
       "1  20160102.0     0.0  10.095833  4.600000  0.412500  3.316667  1.075000   \n",
       "2  20160103.0     0.0   9.641667  4.550000  0.716667  2.508333  0.566667   \n",
       "3  20160104.0     0.0   6.658333  2.495833 -2.495833  4.487500  1.875000   \n",
       "4  20160105.0     0.0   2.000000 -2.213043 -5.775000  3.937500  1.454167   \n",
       "\n",
       "     avg_rhm  sum_rn  \n",
       "0  77.583333     0.0  \n",
       "1  77.916667     0.0  \n",
       "2  85.000000     0.0  \n",
       "3  56.250000     0.0  \n",
       "4  42.304348     0.0  "
      ]
     },
     "execution_count": 16,
     "metadata": {},
     "output_type": "execute_result"
    }
   ],
   "source": [
    "weather.head()"
   ]
  },
  {
   "cell_type": "code",
   "execution_count": 17,
   "metadata": {},
   "outputs": [
    {
     "data": {
      "text/html": [
       "<div>\n",
       "<style scoped>\n",
       "    .dataframe tbody tr th:only-of-type {\n",
       "        vertical-align: middle;\n",
       "    }\n",
       "\n",
       "    .dataframe tbody tr th {\n",
       "        vertical-align: top;\n",
       "    }\n",
       "\n",
       "    .dataframe thead th {\n",
       "        text-align: right;\n",
       "    }\n",
       "</style>\n",
       "<table border=\"1\" class=\"dataframe\">\n",
       "  <thead>\n",
       "    <tr style=\"text-align: right;\">\n",
       "      <th></th>\n",
       "      <th>tm</th>\n",
       "      <th>pvn_nm</th>\n",
       "      <th>gen_cd</th>\n",
       "      <th>age_cd</th>\n",
       "      <th>category</th>\n",
       "      <th>qty</th>\n",
       "    </tr>\n",
       "  </thead>\n",
       "  <tbody>\n",
       "    <tr>\n",
       "      <th>0</th>\n",
       "      <td>20160101</td>\n",
       "      <td>서울특별시</td>\n",
       "      <td>0</td>\n",
       "      <td>0</td>\n",
       "      <td>100</td>\n",
       "      <td>392</td>\n",
       "    </tr>\n",
       "    <tr>\n",
       "      <th>1</th>\n",
       "      <td>20160101</td>\n",
       "      <td>서울특별시</td>\n",
       "      <td>0</td>\n",
       "      <td>1</td>\n",
       "      <td>101</td>\n",
       "      <td>19853</td>\n",
       "    </tr>\n",
       "    <tr>\n",
       "      <th>2</th>\n",
       "      <td>20160101</td>\n",
       "      <td>서울특별시</td>\n",
       "      <td>0</td>\n",
       "      <td>1</td>\n",
       "      <td>100</td>\n",
       "      <td>7646</td>\n",
       "    </tr>\n",
       "    <tr>\n",
       "      <th>3</th>\n",
       "      <td>20160101</td>\n",
       "      <td>서울특별시</td>\n",
       "      <td>0</td>\n",
       "      <td>1</td>\n",
       "      <td>102</td>\n",
       "      <td>154</td>\n",
       "    </tr>\n",
       "    <tr>\n",
       "      <th>4</th>\n",
       "      <td>20160101</td>\n",
       "      <td>서울특별시</td>\n",
       "      <td>0</td>\n",
       "      <td>1</td>\n",
       "      <td>103</td>\n",
       "      <td>5481</td>\n",
       "    </tr>\n",
       "  </tbody>\n",
       "</table>\n",
       "</div>"
      ],
      "text/plain": [
       "         tm pvn_nm  gen_cd  age_cd  category    qty\n",
       "0  20160101  서울특별시       0       0       100    392\n",
       "1  20160101  서울특별시       0       1       101  19853\n",
       "2  20160101  서울특별시       0       1       100   7646\n",
       "3  20160101  서울특별시       0       1       102    154\n",
       "4  20160101  서울특별시       0       1       103   5481"
      ]
     },
     "execution_count": 17,
     "metadata": {},
     "output_type": "execute_result"
    }
   ],
   "source": [
    "gs25.head()"
   ]
  },
  {
   "cell_type": "markdown",
   "metadata": {},
   "source": [
    "  * tm, pvn_nm 이 데이터를 활용하여 merge를 하면 필요한 머신러닝을 위한 데이터를 만들 수 있을 것으로 보인다.\n",
    "  * 이를 위하여 pvn_nm의 데이터를 맞춰줄 필요가 있다. 후의 머신러닝을 모델을 활용하기 위하여 숫자로 변환해주겠다."
   ]
  },
  {
   "cell_type": "code",
   "execution_count": 23,
   "metadata": {},
   "outputs": [],
   "source": [
    "gs25['pvn_nm'] = gs25['pvn_nm'].map({'경기도' : 0,\n",
    "                                     '서울특별시' : 1,\n",
    "                                     '인천광역시' : 2})"
   ]
  },
  {
   "cell_type": "code",
   "execution_count": 24,
   "metadata": {},
   "outputs": [],
   "source": [
    "mergeWG = pd.merge(weather, gs25, on = ('tm', 'pvn_nm'))"
   ]
  },
  {
   "cell_type": "code",
   "execution_count": 25,
   "metadata": {},
   "outputs": [
    {
     "data": {
      "text/plain": [
       "(249520, 13)"
      ]
     },
     "execution_count": 25,
     "metadata": {},
     "output_type": "execute_result"
    }
   ],
   "source": [
    "mergeWG.shape"
   ]
  },
  {
   "cell_type": "code",
   "execution_count": 26,
   "metadata": {},
   "outputs": [
    {
     "data": {
      "text/html": [
       "<div>\n",
       "<style scoped>\n",
       "    .dataframe tbody tr th:only-of-type {\n",
       "        vertical-align: middle;\n",
       "    }\n",
       "\n",
       "    .dataframe tbody tr th {\n",
       "        vertical-align: top;\n",
       "    }\n",
       "\n",
       "    .dataframe thead th {\n",
       "        text-align: right;\n",
       "    }\n",
       "</style>\n",
       "<table border=\"1\" class=\"dataframe\">\n",
       "  <thead>\n",
       "    <tr style=\"text-align: right;\">\n",
       "      <th></th>\n",
       "      <th>tm</th>\n",
       "      <th>pvn_nm</th>\n",
       "      <th>max_ta</th>\n",
       "      <th>avg_ta</th>\n",
       "      <th>min_ta</th>\n",
       "      <th>max_ws</th>\n",
       "      <th>avg_wa</th>\n",
       "      <th>avg_rhm</th>\n",
       "      <th>sum_rn</th>\n",
       "      <th>gen_cd</th>\n",
       "      <th>age_cd</th>\n",
       "      <th>category</th>\n",
       "      <th>qty</th>\n",
       "    </tr>\n",
       "  </thead>\n",
       "  <tbody>\n",
       "    <tr>\n",
       "      <th>0</th>\n",
       "      <td>20160101.0</td>\n",
       "      <td>0.0</td>\n",
       "      <td>4.9375</td>\n",
       "      <td>0.058333</td>\n",
       "      <td>-5.775</td>\n",
       "      <td>2.675</td>\n",
       "      <td>0.766667</td>\n",
       "      <td>77.583333</td>\n",
       "      <td>0.0</td>\n",
       "      <td>0</td>\n",
       "      <td>0</td>\n",
       "      <td>101</td>\n",
       "      <td>541</td>\n",
       "    </tr>\n",
       "    <tr>\n",
       "      <th>1</th>\n",
       "      <td>20160101.0</td>\n",
       "      <td>0.0</td>\n",
       "      <td>4.9375</td>\n",
       "      <td>0.058333</td>\n",
       "      <td>-5.775</td>\n",
       "      <td>2.675</td>\n",
       "      <td>0.766667</td>\n",
       "      <td>77.583333</td>\n",
       "      <td>0.0</td>\n",
       "      <td>0</td>\n",
       "      <td>0</td>\n",
       "      <td>100</td>\n",
       "      <td>273</td>\n",
       "    </tr>\n",
       "    <tr>\n",
       "      <th>2</th>\n",
       "      <td>20160101.0</td>\n",
       "      <td>0.0</td>\n",
       "      <td>4.9375</td>\n",
       "      <td>0.058333</td>\n",
       "      <td>-5.775</td>\n",
       "      <td>2.675</td>\n",
       "      <td>0.766667</td>\n",
       "      <td>77.583333</td>\n",
       "      <td>0.0</td>\n",
       "      <td>0</td>\n",
       "      <td>1</td>\n",
       "      <td>101</td>\n",
       "      <td>12507</td>\n",
       "    </tr>\n",
       "    <tr>\n",
       "      <th>3</th>\n",
       "      <td>20160101.0</td>\n",
       "      <td>0.0</td>\n",
       "      <td>4.9375</td>\n",
       "      <td>0.058333</td>\n",
       "      <td>-5.775</td>\n",
       "      <td>2.675</td>\n",
       "      <td>0.766667</td>\n",
       "      <td>77.583333</td>\n",
       "      <td>0.0</td>\n",
       "      <td>0</td>\n",
       "      <td>1</td>\n",
       "      <td>100</td>\n",
       "      <td>4968</td>\n",
       "    </tr>\n",
       "    <tr>\n",
       "      <th>4</th>\n",
       "      <td>20160101.0</td>\n",
       "      <td>0.0</td>\n",
       "      <td>4.9375</td>\n",
       "      <td>0.058333</td>\n",
       "      <td>-5.775</td>\n",
       "      <td>2.675</td>\n",
       "      <td>0.766667</td>\n",
       "      <td>77.583333</td>\n",
       "      <td>0.0</td>\n",
       "      <td>0</td>\n",
       "      <td>1</td>\n",
       "      <td>103</td>\n",
       "      <td>3566</td>\n",
       "    </tr>\n",
       "  </tbody>\n",
       "</table>\n",
       "</div>"
      ],
      "text/plain": [
       "           tm  pvn_nm  max_ta    avg_ta  min_ta  max_ws    avg_wa    avg_rhm  \\\n",
       "0  20160101.0     0.0  4.9375  0.058333  -5.775   2.675  0.766667  77.583333   \n",
       "1  20160101.0     0.0  4.9375  0.058333  -5.775   2.675  0.766667  77.583333   \n",
       "2  20160101.0     0.0  4.9375  0.058333  -5.775   2.675  0.766667  77.583333   \n",
       "3  20160101.0     0.0  4.9375  0.058333  -5.775   2.675  0.766667  77.583333   \n",
       "4  20160101.0     0.0  4.9375  0.058333  -5.775   2.675  0.766667  77.583333   \n",
       "\n",
       "   sum_rn  gen_cd  age_cd  category    qty  \n",
       "0     0.0       0       0       101    541  \n",
       "1     0.0       0       0       100    273  \n",
       "2     0.0       0       1       101  12507  \n",
       "3     0.0       0       1       100   4968  \n",
       "4     0.0       0       1       103   3566  "
      ]
     },
     "execution_count": 26,
     "metadata": {},
     "output_type": "execute_result"
    }
   ],
   "source": [
    "mergeWG.head()"
   ]
  },
  {
   "cell_type": "code",
   "execution_count": 30,
   "metadata": {},
   "outputs": [],
   "source": [
    "mergeWG.to_csv('mergeWG.csv')"
   ]
  },
  {
   "cell_type": "code",
   "execution_count": null,
   "metadata": {},
   "outputs": [],
   "source": []
  }
 ],
 "metadata": {
  "kernelspec": {
   "display_name": "Python 3",
   "language": "python",
   "name": "python3"
  },
  "language_info": {
   "codemirror_mode": {
    "name": "ipython",
    "version": 3
   },
   "file_extension": ".py",
   "mimetype": "text/x-python",
   "name": "python",
   "nbconvert_exporter": "python",
   "pygments_lexer": "ipython3",
   "version": "3.7.3"
  }
 },
 "nbformat": 4,
 "nbformat_minor": 2
}
